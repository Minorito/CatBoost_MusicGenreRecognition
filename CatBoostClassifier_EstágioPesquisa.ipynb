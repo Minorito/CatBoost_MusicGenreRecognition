{
  "nbformat": 4,
  "nbformat_minor": 0,
  "metadata": {
    "colab": {
      "provenance": [],
      "authorship_tag": "ABX9TyNP9p2Wd0dC6KnyLLTQTtA5",
      "include_colab_link": true
    },
    "kernelspec": {
      "name": "python3",
      "display_name": "Python 3"
    },
    "language_info": {
      "name": "python"
    }
  },
  "cells": [
    {
      "cell_type": "markdown",
      "metadata": {
        "id": "view-in-github",
        "colab_type": "text"
      },
      "source": [
        "<a href=\"https://colab.research.google.com/github/Minorito/CatBoost_MusicRecognition/blob/main/CatBoostClassifier_Est%C3%A1gioPesquisa.ipynb\" target=\"_parent\"><img src=\"https://colab.research.google.com/assets/colab-badge.svg\" alt=\"Open In Colab\"/></a>"
      ]
    },
    {
      "cell_type": "code",
      "source": [
        "pip install catboost "
      ],
      "metadata": {
        "colab": {
          "base_uri": "https://localhost:8080/"
        },
        "id": "LgqajGX-aySr",
        "outputId": "ce98fd43-961c-4491-f14e-7543c324e249"
      },
      "execution_count": null,
      "outputs": [
        {
          "output_type": "stream",
          "name": "stdout",
          "text": [
            "Looking in indexes: https://pypi.org/simple, https://us-python.pkg.dev/colab-wheels/public/simple/\n",
            "Requirement already satisfied: catboost in /usr/local/lib/python3.9/dist-packages (1.1.1)\n",
            "Requirement already satisfied: plotly in /usr/local/lib/python3.9/dist-packages (from catboost) (5.5.0)\n",
            "Requirement already satisfied: graphviz in /usr/local/lib/python3.9/dist-packages (from catboost) (0.10.1)\n",
            "Requirement already satisfied: six in /usr/local/lib/python3.9/dist-packages (from catboost) (1.15.0)\n",
            "Requirement already satisfied: numpy>=1.16.0 in /usr/local/lib/python3.9/dist-packages (from catboost) (1.22.4)\n",
            "Requirement already satisfied: matplotlib in /usr/local/lib/python3.9/dist-packages (from catboost) (3.7.1)\n",
            "Requirement already satisfied: scipy in /usr/local/lib/python3.9/dist-packages (from catboost) (1.10.1)\n",
            "Requirement already satisfied: pandas>=0.24.0 in /usr/local/lib/python3.9/dist-packages (from catboost) (1.4.4)\n",
            "Requirement already satisfied: pytz>=2020.1 in /usr/local/lib/python3.9/dist-packages (from pandas>=0.24.0->catboost) (2022.7.1)\n",
            "Requirement already satisfied: python-dateutil>=2.8.1 in /usr/local/lib/python3.9/dist-packages (from pandas>=0.24.0->catboost) (2.8.2)\n",
            "Requirement already satisfied: fonttools>=4.22.0 in /usr/local/lib/python3.9/dist-packages (from matplotlib->catboost) (4.39.0)\n",
            "Requirement already satisfied: pyparsing>=2.3.1 in /usr/local/lib/python3.9/dist-packages (from matplotlib->catboost) (3.0.9)\n",
            "Requirement already satisfied: cycler>=0.10 in /usr/local/lib/python3.9/dist-packages (from matplotlib->catboost) (0.11.0)\n",
            "Requirement already satisfied: packaging>=20.0 in /usr/local/lib/python3.9/dist-packages (from matplotlib->catboost) (23.0)\n",
            "Requirement already satisfied: pillow>=6.2.0 in /usr/local/lib/python3.9/dist-packages (from matplotlib->catboost) (8.4.0)\n",
            "Requirement already satisfied: contourpy>=1.0.1 in /usr/local/lib/python3.9/dist-packages (from matplotlib->catboost) (1.0.7)\n",
            "Requirement already satisfied: importlib-resources>=3.2.0 in /usr/local/lib/python3.9/dist-packages (from matplotlib->catboost) (5.12.0)\n",
            "Requirement already satisfied: kiwisolver>=1.0.1 in /usr/local/lib/python3.9/dist-packages (from matplotlib->catboost) (1.4.4)\n",
            "Requirement already satisfied: tenacity>=6.2.0 in /usr/local/lib/python3.9/dist-packages (from plotly->catboost) (8.2.2)\n",
            "Requirement already satisfied: zipp>=3.1.0 in /usr/local/lib/python3.9/dist-packages (from importlib-resources>=3.2.0->matplotlib->catboost) (3.15.0)\n"
          ]
        }
      ]
    },
    {
      "cell_type": "code",
      "execution_count": null,
      "metadata": {
        "id": "kBdnm7VsyNJ0"
      },
      "outputs": [],
      "source": [
        "import os\n",
        "import numpy as np\n",
        "import pandas as pd\n",
        "import matplotlib.pyplot as plt\n",
        "from matplotlib import cm, colors\n",
        "from matplotlib.colors import ListedColormap\n",
        "%matplotlib inline\n",
        "import seaborn as sns\n",
        "sns.set_style('whitegrid')\n",
        "import warnings\n",
        "warnings.filterwarnings('ignore')\n",
        "from scipy.stats import uniform, randint, mode\n",
        "import tensorflow as tf\n",
        "import tensorflow.python.keras as k\n",
        "from keras.wrappers.scikit_learn import KerasClassifier\n",
        "from sklearn.ensemble import AdaBoostClassifier, GradientBoostingClassifier, RandomForestClassifier\n",
        "from sklearn.model_selection import train_test_split, KFold, StratifiedKFold\n",
        "from sklearn.preprocessing import minmax_scale, MinMaxScaler, LabelEncoder, StandardScaler\n",
        "from sklearn.metrics import accuracy_score, confusion_matrix, classification_report\n",
        "from catboost import CatBoostClassifier\n",
        "import librosa, IPython\n",
        "from IPython.display import display\n",
        "import librosa.display\n",
        "from tqdm import tqdm\n",
        "import random\n",
        "from sklearn.model_selection import KFold"
      ]
    },
    {
      "cell_type": "code",
      "source": [
        "seed = 42\n",
        "random.seed = seed\n",
        "np.random.seed(seed)\n",
        "tf.random.set_seed(seed)"
      ],
      "metadata": {
        "id": "xuTSNjuZ0gSc"
      },
      "execution_count": null,
      "outputs": []
    },
    {
      "cell_type": "code",
      "source": [
        "from google.colab import drive\n",
        "drive.mount('/content/drive/')"
      ],
      "metadata": {
        "colab": {
          "base_uri": "https://localhost:8080/"
        },
        "id": "JYJob2jnzRAq",
        "outputId": "4dd80e62-4996-425e-96a6-abb5c511e063"
      },
      "execution_count": null,
      "outputs": [
        {
          "output_type": "stream",
          "name": "stdout",
          "text": [
            "Drive already mounted at /content/drive/; to attempt to forcibly remount, call drive.mount(\"/content/drive/\", force_remount=True).\n"
          ]
        }
      ]
    },
    {
      "cell_type": "code",
      "source": [
        "data = pd.read_csv('/content/drive/My Drive/musicas/datasets/Data/features_3_sec.csv')\n",
        "print(\"Dataset has\", data.shape)\n",
        "data.head()\n",
        "genres = [\"blues\", \"classical\", \"country\", \"disco\", \"hiphop\", \"jazz\", \"metal\", \"pop\", \"reggae\", \"rock\"]"
      ],
      "metadata": {
        "colab": {
          "base_uri": "https://localhost:8080/"
        },
        "id": "y4neCgaWzHW7",
        "outputId": "eee65750-4b33-4202-e7b0-c3e57ddeb800"
      },
      "execution_count": null,
      "outputs": [
        {
          "output_type": "stream",
          "name": "stdout",
          "text": [
            "Dataset has (9990, 60)\n"
          ]
        }
      ]
    },
    {
      "cell_type": "code",
      "source": [
        "label_encoder = LabelEncoder()\n",
        "labels = data['label']\n",
        "label_encoder.fit(labels)\n",
        "data.insert(60, 'label_id', 9999)\n",
        "data.insert(1, 'filename_full', '')\n",
        "for i in range(len(data)):\n",
        "    label = data.loc[i,'label']\n",
        "    label_id =label_encoder.transform([label])\n",
        "    data.loc[i,'label_id']=label_id.item()\n",
        "    data.loc[i,'filename_full']=str(data.loc[i,'filename']).split('.')[0]+\".\"+str(data.loc[i,'filename']).split('.')[1]+\".\"+str(data.loc[i,'filename']).split('.')[3]\n",
        "data['label_id']=data['label_id'].astype(int)"
      ],
      "metadata": {
        "id": "j89VyhY1zh5a"
      },
      "execution_count": null,
      "outputs": []
    },
    {
      "cell_type": "code",
      "source": [
        "X_full = data.drop(['filename','filename_full', 'length','label', 'label_id'], axis = 1)\n",
        "y_full = data['label_id'].astype('int')\n",
        "X_train, X_test, y_train, y_test = train_test_split(X_full, y_full, test_size=0.3, random_state = seed, shuffle = True)\n",
        "scaler = StandardScaler()\n",
        "X_train = pd.DataFrame(scaler.fit_transform(X_train), columns=X_train.columns)\n",
        "X_test = pd.DataFrame(scaler.transform(X_test), columns=X_test.columns)"
      ],
      "metadata": {
        "id": "hWH2Y-gUzltj"
      },
      "execution_count": null,
      "outputs": []
    },
    {
      "cell_type": "code",
      "source": [
        "acc_per_fold = []\n",
        "loss_per_fold = []\n",
        "num_folds = 10\n",
        "fold_no = 1"
      ],
      "metadata": {
        "id": "AlD4Q9Wx3uzi"
      },
      "execution_count": null,
      "outputs": []
    },
    {
      "cell_type": "code",
      "source": [
        "inputs = np.concatenate((X_train, X_test), axis=0)\n",
        "targets = np.concatenate((y_train, y_test), axis=0)"
      ],
      "metadata": {
        "id": "6HfyEA8a31hc"
      },
      "execution_count": null,
      "outputs": []
    },
    {
      "cell_type": "code",
      "source": [
        "kfold = KFold(n_splits=num_folds, shuffle=True)"
      ],
      "metadata": {
        "id": "VyZsUnF63iiS"
      },
      "execution_count": null,
      "outputs": []
    },
    {
      "cell_type": "code",
      "source": [
        "for train, test in kfold.split(inputs, targets):\n",
        "    model = CatBoostClassifier(random_state=seed, verbose=0, eval_metric='Accuracy', loss_function='MultiClass')\n",
        "\n",
        "    print('------------------------------------------------------------------------')\n",
        "    print(f'Training for fold {fold_no} ...')\n",
        "    model.fit(inputs[train],targets[train])\n",
        "    \n",
        "    acc_per_fold.append(model.score(inputs[test], targets[test]) * 100)\n",
        "    loss_per_fold.append(model.score(inputs[test], targets[test]))\n",
        "\n",
        "    fold_no = fold_no + 1"
      ],
      "metadata": {
        "id": "2HiNIUNW0tCc",
        "colab": {
          "base_uri": "https://localhost:8080/"
        },
        "outputId": "8de30dea-f7b4-41cd-d40b-7c54fc33e708"
      },
      "execution_count": null,
      "outputs": [
        {
          "output_type": "stream",
          "name": "stdout",
          "text": [
            "------------------------------------------------------------------------\n",
            "Training for fold 1 ...\n",
            "------------------------------------------------------------------------\n",
            "Training for fold 2 ...\n",
            "------------------------------------------------------------------------\n",
            "Training for fold 3 ...\n",
            "------------------------------------------------------------------------\n",
            "Training for fold 4 ...\n",
            "------------------------------------------------------------------------\n",
            "Training for fold 5 ...\n",
            "------------------------------------------------------------------------\n",
            "Training for fold 6 ...\n",
            "------------------------------------------------------------------------\n",
            "Training for fold 7 ...\n",
            "------------------------------------------------------------------------\n",
            "Training for fold 8 ...\n",
            "------------------------------------------------------------------------\n",
            "Training for fold 9 ...\n",
            "------------------------------------------------------------------------\n",
            "Training for fold 10 ...\n"
          ]
        }
      ]
    },
    {
      "cell_type": "code",
      "source": [
        "    print('------------------------------------------------------------------------')\n",
        "    print('Score per fold')\n",
        "    for i in range(0, len(acc_per_fold)):\n",
        "      print('------------------------------------------------------------------------')\n",
        "      print(f'> Fold {i+1} - Loss: {loss_per_fold[i]} - Accuracy: {acc_per_fold[i]}%')\n",
        "\n",
        "    print('------------------------------------------------------------------------')\n",
        "    print('Average scores for all folds:')\n",
        "    print(f'> Accuracy: {np.mean(acc_per_fold)} (+- {np.std(acc_per_fold)})')\n",
        "    print(f'> Loss: {np.mean(loss_per_fold)}')\n",
        "    print('------------------------------------------------------------------------')    "
      ],
      "metadata": {
        "id": "gV9gLDNT7evQ",
        "colab": {
          "base_uri": "https://localhost:8080/"
        },
        "outputId": "8cd06ecd-4205-4f40-fee4-0b9e8855f07d"
      },
      "execution_count": null,
      "outputs": [
        {
          "output_type": "stream",
          "name": "stdout",
          "text": [
            "------------------------------------------------------------------------\n",
            "Score per fold\n",
            "------------------------------------------------------------------------\n",
            "> Fold 1 - Loss: 0.908908908908909 - Accuracy: 90.8908908908909%\n",
            "------------------------------------------------------------------------\n",
            "> Fold 2 - Loss: 0.923923923923924 - Accuracy: 92.3923923923924%\n",
            "------------------------------------------------------------------------\n",
            "> Fold 3 - Loss: 0.9099099099099099 - Accuracy: 90.990990990991%\n",
            "------------------------------------------------------------------------\n",
            "> Fold 4 - Loss: 0.9099099099099099 - Accuracy: 90.990990990991%\n",
            "------------------------------------------------------------------------\n",
            "> Fold 5 - Loss: 0.9309309309309309 - Accuracy: 93.09309309309309%\n",
            "------------------------------------------------------------------------\n",
            "> Fold 6 - Loss: 0.9169169169169169 - Accuracy: 91.69169169169169%\n",
            "------------------------------------------------------------------------\n",
            "> Fold 7 - Loss: 0.913913913913914 - Accuracy: 91.3913913913914%\n",
            "------------------------------------------------------------------------\n",
            "> Fold 8 - Loss: 0.9069069069069069 - Accuracy: 90.69069069069069%\n",
            "------------------------------------------------------------------------\n",
            "> Fold 9 - Loss: 0.918918918918919 - Accuracy: 91.8918918918919%\n",
            "------------------------------------------------------------------------\n",
            "> Fold 10 - Loss: 0.913913913913914 - Accuracy: 91.3913913913914%\n",
            "------------------------------------------------------------------------\n",
            "Average scores for all folds:\n",
            "> Accuracy: 91.54154154154153 (+- 0.7124005344808028)\n",
            "> Loss: 0.9154154154154155\n",
            "------------------------------------------------------------------------\n"
          ]
        }
      ]
    },
    {
      "cell_type": "code",
      "source": [
        "y_pred_test = model.predict(inputs[test])\n",
        "cm = confusion_matrix(targets[test], y_pred_test)\n",
        "plt.figure(figsize = (20, 10))\n",
        "sns.heatmap(cm, cmap=\"flare\", annot=True, xticklabels = genres, yticklabels= genres);\n",
        "plt.show()"
      ],
      "metadata": {
        "id": "T4OWmz_O00Q9",
        "colab": {
          "base_uri": "https://localhost:8080/",
          "height": 596
        },
        "outputId": "7e9eb73e-5fc0-49e4-f086-b122b8078142"
      },
      "execution_count": null,
      "outputs": [
        {
          "output_type": "display_data",
          "data": {
            "text/plain": [
              "<Figure size 1440x720 with 2 Axes>"
            ],
            "image/png": "[encoded data removed]"
          },
          "metadata": {}
        }
      ]
    },
    {
      "cell_type": "code",
      "source": [
        "matriz_total= np.sum(cm)\n",
        "print(f'Soma de todos elementos da matriz {matriz_total}')\n",
        "\n",
        "n = 10\n",
        "\n",
        "diagonal_principal = sum(cm[i][i] for i in range(n))\n",
        "print(f'Soma diagonal principal {diagonal_principal}')\n",
        "\n",
        "print(f'Matriz Confusão: {(diagonal_principal/matriz_total)*100}%')"
      ],
      "metadata": {
        "id": "MkanUyfin1KT",
        "colab": {
          "base_uri": "https://localhost:8080/"
        },
        "outputId": "e0969f28-a79c-4293-9bcf-3b8e006cd41f"
      },
      "execution_count": null,
      "outputs": [
        {
          "output_type": "stream",
          "name": "stdout",
          "text": [
            "Soma de todos elementos da matriz 999\n",
            "Soma diagonal principal 913\n",
            "Matriz Confusão: 91.3913913913914%\n"
          ]
        }
      ]
    },
    {
      "cell_type": "code",
      "source": [
        "print(classification_report(targets[test], y_pred_test, digits=3, target_names=genres))"
      ],
      "metadata": {
        "colab": {
          "base_uri": "https://localhost:8080/"
        },
        "id": "qP5eiIgGYaXz",
        "outputId": "9a9f9265-696e-4cac-9962-9225ec269e45"
      },
      "execution_count": null,
      "outputs": [
        {
          "output_type": "stream",
          "name": "stdout",
          "text": [
            "              precision    recall  f1-score   support\n",
            "\n",
            "       blues      0.873     0.932     0.901       103\n",
            "   classical      0.962     0.990     0.976       101\n",
            "     country      0.859     0.825     0.842       103\n",
            "       disco      0.907     0.891     0.899       110\n",
            "      hiphop      0.968     0.928     0.947        97\n",
            "        jazz      0.908     0.934     0.921       106\n",
            "       metal      0.927     0.989     0.957        90\n",
            "         pop      0.937     0.957     0.947        93\n",
            "      reggae      0.906     0.881     0.893       109\n",
            "        rock      0.899     0.816     0.855        87\n",
            "\n",
            "    accuracy                          0.914       999\n",
            "   macro avg      0.914     0.914     0.914       999\n",
            "weighted avg      0.914     0.914     0.913       999\n",
            "\n"
          ]
        }
      ]
    }
  ]
}